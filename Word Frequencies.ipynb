{
 "cells": [
  {
   "cell_type": "markdown",
   "metadata": {},
   "source": [
    "# Word Frequencies"
   ]
  },
  {
   "cell_type": "markdown",
   "metadata": {},
   "source": [
    "## Import Functions"
   ]
  },
  {
   "cell_type": "code",
   "execution_count": 1,
   "metadata": {},
   "outputs": [],
   "source": [
    "import nltk                                  # Python library for NLP\n",
    "import pandas as pd                          # Library for import data from excel\n",
    "import matplotlib.pyplot as plt              # visualization library\n",
    "import numpy as np                           # library for scientific computing and matrix operations"
   ]
  },
  {
   "cell_type": "code",
   "execution_count": 2,
   "metadata": {},
   "outputs": [
    {
     "name": "stderr",
     "output_type": "stream",
     "text": [
      "[nltk_data] Downloading package stopwords to C:\\Users\\ROG\n",
      "[nltk_data]     STRIX\\AppData\\Roaming\\nltk_data...\n",
      "[nltk_data]   Package stopwords is already up-to-date!\n"
     ]
    }
   ],
   "source": [
    "# download the stopwords for the process_tweet function\n",
    "nltk.download('stopwords')\n",
    "\n",
    "# import our convenience functions\n",
    "from utils_ind import process_tweet, build_freqs"
   ]
  },
  {
   "cell_type": "markdown",
   "metadata": {},
   "source": [
    "## Load Dataset"
   ]
  },
  {
   "cell_type": "code",
   "execution_count": 3,
   "metadata": {},
   "outputs": [
    {
     "data": {
      "text/html": [
       "<div>\n",
       "<style scoped>\n",
       "    .dataframe tbody tr th:only-of-type {\n",
       "        vertical-align: middle;\n",
       "    }\n",
       "\n",
       "    .dataframe tbody tr th {\n",
       "        vertical-align: top;\n",
       "    }\n",
       "\n",
       "    .dataframe thead th {\n",
       "        text-align: right;\n",
       "    }\n",
       "</style>\n",
       "<table border=\"1\" class=\"dataframe\">\n",
       "  <thead>\n",
       "    <tr style=\"text-align: right;\">\n",
       "      <th></th>\n",
       "      <th>text</th>\n",
       "      <th>label</th>\n",
       "    </tr>\n",
       "  </thead>\n",
       "  <tbody>\n",
       "    <tr>\n",
       "      <th>0</th>\n",
       "      <td>yuk sini kita musuhan biar aku teror km :(</td>\n",
       "      <td>-1</td>\n",
       "    </tr>\n",
       "    <tr>\n",
       "      <th>1</th>\n",
       "      <td>lu mah sukanga om om :(</td>\n",
       "      <td>-1</td>\n",
       "    </tr>\n",
       "    <tr>\n",
       "      <th>2</th>\n",
       "      <td>kannnn :( target a tapi bila dah macam ni dah ...</td>\n",
       "      <td>-1</td>\n",
       "    </tr>\n",
       "    <tr>\n",
       "      <th>3</th>\n",
       "      <td>tp klopun msk gw pribadipun blm yakin bisa non...</td>\n",
       "      <td>-1</td>\n",
       "    </tr>\n",
       "    <tr>\n",
       "      <th>4</th>\n",
       "      <td>2 personil mejile besok mau pulang tiati ya ka...</td>\n",
       "      <td>-1</td>\n",
       "    </tr>\n",
       "    <tr>\n",
       "      <th>...</th>\n",
       "      <td>...</td>\n",
       "      <td>...</td>\n",
       "    </tr>\n",
       "    <tr>\n",
       "      <th>195</th>\n",
       "      <td>simple aja sih. jangan mainin perasaan cewek, ...</td>\n",
       "      <td>1</td>\n",
       "    </tr>\n",
       "    <tr>\n",
       "      <th>196</th>\n",
       "      <td>telkomsel: mhmdaliwafa jika log in instagram d...</td>\n",
       "      <td>1</td>\n",
       "    </tr>\n",
       "    <tr>\n",
       "      <th>197</th>\n",
       "      <td>telkomsel: lanwsp [3] info lengkap friday movi...</td>\n",
       "      <td>1</td>\n",
       "    </tr>\n",
       "    <tr>\n",
       "      <th>198</th>\n",
       "      <td>halobca: rizkyrinjani_ mhn bpk rizky infokan n...</td>\n",
       "      <td>1</td>\n",
       "    </tr>\n",
       "    <tr>\n",
       "      <th>199</th>\n",
       "      <td>pokoknya itu ngedesah titik kgk pake koma:) de...</td>\n",
       "      <td>1</td>\n",
       "    </tr>\n",
       "  </tbody>\n",
       "</table>\n",
       "<p>200 rows × 2 columns</p>\n",
       "</div>"
      ],
      "text/plain": [
       "                                                  text  label\n",
       "0           yuk sini kita musuhan biar aku teror km :(     -1\n",
       "1                              lu mah sukanga om om :(     -1\n",
       "2    kannnn :( target a tapi bila dah macam ni dah ...     -1\n",
       "3    tp klopun msk gw pribadipun blm yakin bisa non...     -1\n",
       "4    2 personil mejile besok mau pulang tiati ya ka...     -1\n",
       "..                                                 ...    ...\n",
       "195  simple aja sih. jangan mainin perasaan cewek, ...      1\n",
       "196  telkomsel: mhmdaliwafa jika log in instagram d...      1\n",
       "197  telkomsel: lanwsp [3] info lengkap friday movi...      1\n",
       "198  halobca: rizkyrinjani_ mhn bpk rizky infokan n...      1\n",
       "199  pokoknya itu ngedesah titik kgk pake koma:) de...      1\n",
       "\n",
       "[200 rows x 2 columns]"
      ]
     },
     "execution_count": 3,
     "metadata": {},
     "output_type": "execute_result"
    }
   ],
   "source": [
    "df = pd.read_excel(\"sentiment_sample.xlsx\")\n",
    "df = df.drop(columns=[\"id\"])\n",
    "df"
   ]
  },
  {
   "cell_type": "code",
   "execution_count": 4,
   "metadata": {},
   "outputs": [
    {
     "name": "stdout",
     "output_type": "stream",
     "text": [
      "Number of tweets:  100\n"
     ]
    }
   ],
   "source": [
    "# select the lists of positive and negative tweets\n",
    "all_positive_tweets = df[df['label'] == 1].values[:,0]\n",
    "all_negative_tweets = df[df['label'] == -1].values[:,0]\n",
    "\n",
    "# concatenate the lists, 1st part is the positive tweets followed by the negative\n",
    "tweets = all_positive_tweets + all_negative_tweets\n",
    "\n",
    "# let's see how many tweets we have\n",
    "print(\"Number of tweets: \", len(tweets))"
   ]
  },
  {
   "cell_type": "code",
   "execution_count": 5,
   "metadata": {},
   "outputs": [],
   "source": [
    "# make a numpy array representing labels of the tweets\n",
    "labels = np.append(np.ones((len(all_positive_tweets))), np.zeros((len(all_negative_tweets))))"
   ]
  },
  {
   "cell_type": "markdown",
   "metadata": {},
   "source": [
    "## Dictionary"
   ]
  },
  {
   "cell_type": "markdown",
   "metadata": {},
   "source": [
    "### Definition"
   ]
  },
  {
   "cell_type": "code",
   "execution_count": 6,
   "metadata": {},
   "outputs": [],
   "source": [
    "dictionary = {'key1': 1, 'key2': 2}"
   ]
  },
  {
   "cell_type": "markdown",
   "metadata": {},
   "source": [
    "### Add or Edit"
   ]
  },
  {
   "cell_type": "code",
   "execution_count": 7,
   "metadata": {},
   "outputs": [
    {
     "name": "stdout",
     "output_type": "stream",
     "text": [
      "{'key1': 0, 'key2': 2, 'key3': -5}\n"
     ]
    }
   ],
   "source": [
    "# Add a new entry\n",
    "dictionary['key3'] = -5\n",
    "\n",
    "# Overwrite the value of key1\n",
    "dictionary['key1'] = 0\n",
    "\n",
    "print(dictionary)"
   ]
  },
  {
   "cell_type": "markdown",
   "metadata": {},
   "source": [
    "### Accessing values and lookup keys"
   ]
  },
  {
   "cell_type": "code",
   "execution_count": 8,
   "metadata": {},
   "outputs": [
    {
     "name": "stdout",
     "output_type": "stream",
     "text": [
      "2\n"
     ]
    }
   ],
   "source": [
    "# Square bracket lookup when the key exist\n",
    "print(dictionary['key2'])"
   ]
  },
  {
   "cell_type": "code",
   "execution_count": 9,
   "metadata": {},
   "outputs": [
    {
     "name": "stdout",
     "output_type": "stream",
     "text": [
      "item found:  0\n",
      "item found:  0\n"
     ]
    }
   ],
   "source": [
    "# This prints a value\n",
    "if 'key1' in dictionary:\n",
    "    print(\"item found: \", dictionary['key1'])\n",
    "else:\n",
    "    print('key1 is not defined')\n",
    "\n",
    "# Same as what you get with get\n",
    "print(\"item found: \", dictionary.get('key1', -1))"
   ]
  },
  {
   "cell_type": "code",
   "execution_count": 10,
   "metadata": {},
   "outputs": [
    {
     "name": "stdout",
     "output_type": "stream",
     "text": [
      "key does not exist!\n",
      "-1\n"
     ]
    }
   ],
   "source": [
    "# This prints a message because the key is not found\n",
    "if 'key7' in dictionary:\n",
    "    print(dictionary['key7'])\n",
    "else:\n",
    "    print('key does not exist!')\n",
    "\n",
    "# This prints -1 because the key is not found and we set the default to -1\n",
    "print(dictionary.get('key7', -1))"
   ]
  },
  {
   "cell_type": "markdown",
   "metadata": {},
   "source": [
    "## Word Frequencies"
   ]
  },
  {
   "cell_type": "code",
   "execution_count": 11,
   "metadata": {},
   "outputs": [
    {
     "name": "stdout",
     "output_type": "stream",
     "text": [
      "type(freqs) = <class 'dict'>\n",
      "len(freqs) = 771\n"
     ]
    }
   ],
   "source": [
    "# create frequency dictionary\n",
    "freqs = build_freqs(tweets, labels)\n",
    "\n",
    "# check data type\n",
    "print(f'type(freqs) = {type(freqs)}')\n",
    "\n",
    "# check length of the dictionary\n",
    "print(f'len(freqs) = {len(freqs)}')"
   ]
  },
  {
   "cell_type": "code",
   "execution_count": 12,
   "metadata": {},
   "outputs": [
    {
     "name": "stdout",
     "output_type": "stream",
     "text": [
      "{('juang', 1.0): 1, ('', 1.0): 231, ('yuk', 1.0): 1, ('musuh', 1.0): 1, ('biar', 1.0): 4, ('teror', 1.0): 1, ('km', 1.0): 1, ('shahrezamirza', 1.0): 1, ('selamat', 1.0): 3, ('siang', 1.0): 5, ('mas', 1.0): 7, ('zae', 1.0): 1, ('sila', 1.0): 5, ('info', 1.0): 24, ('detail', 1.0): 2, ('keluh', 1.0): 1, ('nomor', 1.0): 14, ('via', 1.0): 14, ('dm', 1.0): 22, ('litalu', 1.0): 1, ('mah', 1.0): 7, ('sukanga', 1.0): 1, ('om', 1.0): 3, ('telkomsel', 1.0): 64, ('muhammadarviin', 1.0): 1, ('iya', 1.0): 2, ('buka', 1.0): 2, ('krisakannn', 1.0): 1, ('target', 1.0): 1, ('a', 1.0): 2, ('dah', 1.0): 4, ('ni', 1.0): 2, ('lulus', 1.0): 2, ('pon', 1.0): 1, ('fahrie', 1.0): 2, ('0007', 1.0): 2, ('interaksi', 1.0): 13, ('ratutp', 1.0): 1, ('klopun', 1.0): 2, ('msk', 1.0): 1, ('gw', 1.0): 1, ('pribadi', 1.0): 1, ('blm', 1.0): 3, ('nonton', 1.0): 2, ('dpt', 1.0): 4, ('kerja', 1.0): 1, ('soalx', 1.0): 1, ('ya', 1.0): 11, ('udah', 1.0): 7, ('izin', 1.0): 1, ('ortu', 1.0): 1, ('yg', 1.0): 12, ('takutx', 1.0): 1, ('jd', 1.0): 1, ('kendala', 1.0): 10, ('bocahjhelek', 1.0): 1, ('2', 1.0): 31, ('dual', 1.0): 1, ('mode', 1.0): 2, ('akses', 1.0): 2, ('ruang', 1.0): 1, ('tata', 1.0): 1, ('personil', 1.0): 1, ('mejile', 1.0): 1, ('besok', 1.0): 2, ('pulang', 1.0): 1, ('tiati', 1.0): 1, ('with', 1.0): 1, ('arpiani', 1.0): 1, ('irene', 1.0): 1, ('and', 1.0): 1, ('hesti', 1.0): 1, ('at', 1.0): 1, ('pic', 1.0): 1, ('msy melody', 1.0): 1, ('tatatrus', 1.0): 1, ('salah', 1.0): 5, ('radhiani', 1.0): 3, ('sinyal', 1.0): 3, ('bantu', 1.0): 15, ('kece', 1.0): 3, ('terima', 1.0): 25, ('kasih', 1.0): 21, ('nisaekspektasi', 1.0): 1, ('kuliah', 1.0): 2, ('lancar', 1.0): 2, ('aja', 1.0): 13, ('sampe', 1.0): 2, ('skrg', 1.0): 1, ('semester', 1.0): 1, ('5', 1.0): 2, ('ku', 1.0): 2, ('pusing', 1.0): 1, ('mikirin', 1.0): 1, ('goda', 1.0): 1, ('nikah', 1.0): 1, ('marqiliahkim', 1.0): 5, ('18', 1.0): 5, ('lokasi', 1.0): 8, ('lengkap', 1.0): 8, ('tipe', 1.0): 7, ('hp', 1.0): 10, ('cek', 1.0): 14, ('nurakenapa', 1.0): 1, ('trump', 1.0): 2, ('menang', 1.0): 3, ('nerlite', 1.0): 4, ('twitter', 1.0): 9, ('nisapasti', 1.0): 1, ('org', 1.0): 1, ('emaknya', 1.0): 1, ('ngenalin', 1.0): 1, ('elah', 1.0): 1, ('blanjacom', 1.0): 3, ('hai', 1.0): 6, ('share', 1.0): 3, ('anakenapa', 1.0): 3, ('gua', 1.0): 3, ('moodyan', 1.0): 1, ('b4b4ng r1ch', 1.0): 3, ('layan', 1.0): 7, ('nadacogansama', 1.0): 1, ('curhat', 1.0): 1, ('bang', 1.0): 2, ('onet', 1.0): 1, ('gaplok', 1.0): 1, ('lu', 1.0): 7, ('nih', 1.0): 3, ('ga', 1.0): 8, ('agnesprayangga', 1.0): 1, ('halo', 1.0): 1, ('agnes', 1.0): 1, ('nikmat', 1.0): 2, ('xl', 1.0): 1, ('d', 1.0): 5, ('sesal', 1.0): 1, ('hidup', 1.0): 2, ('pilih', 1.0): 1, ('jokowi', 1.0): 1, ('dipilpres', 1.0): 1, ('alviniagutomo', 1.0): 3, ('partisipasi', 1.0): 8, ('anamcd', 1.0): 1, ('oppa', 1.0): 3, ('baca', 1.0): 2, ('tuh', 1.0): 1, ('smw', 1.0): 1, ('gratis', 1.0): 2, ('moms', 1.0): 1, ('kalcare', 1.0): 1, ('sedia', 1.0): 3, ('jakarta', 1.0): 1, ('tanggerang', 1.0): 1, ('bintaro', 1.0): 1, ('yrkenapa', 1.0): 1, ('ngga', 1.0): 1, ('viadvi', 1.0): 2, ('kasi', 1.0): 3, ('karinboong', 1.0): 1, ('ah', 1.0): 4, ('ntar', 1.0): 1, ('suruh', 1.0): 1, ('bayar', 1.0): 1, ('anaiihhh', 1.0): 1, ('si', 1.0): 4, ('ganteng', 1.0): 2, ('kangen', 1.0): 1, ('tau', 1.0): 3, ('huhu', 1.0): 1, ('acara', 1.0): 1, ('dada', 1.0): 1, ('lagiii', 1.0): 2, ('lkmm', 1.0): 1, ('tm', 1.0): 1, ('kemenristek', 1.0): 1, ('dikti', 1.0): 1, ('syukur', 1.0): 1, ('harris', 1.0): 1, ('riverview', 1.0): 1, ('kutagundu', 1.0): 1, ('kelereng', 1.0): 1, ('tolong', 1.0): 2, ('warjunet', 1.0): 3, ('litamain', 1.0): 1, ('congklak', 1.0): 1, ('kek', 1.0): 1, ('unn', 1.0): 2, ('happy', 1.0): 1, ('lunch', 1.0): 1, ('promise', 1.0): 1, ('lovers', 1.0): 1, ('rahman', 1.0): 1, ('kanya', 1.0): 1, ('makan', 1.0): 2, ('kembar', 1.0): 1, ('menu', 1.0): 1, ('tehyung', 1.0): 1, ('montok', 1.0): 1, ('jebe', 1.0): 1, ('tepos', 1.0): 1, ('slapped', 1.0): 1, ('mention', 1.0): 3, ('sisip', 1.0): 1, ('tanda', 1.0): 1, ('karinhah', 1.0): 1, ('sih', 1.0): 3, ('adek', 1.0): 1, ('gakpaham', 1.0): 1, ('yah', 1.0): 4, ('godhok', 1.0): 3, ('kali', 1.0): 3, ('tanggal', 1.0): 5, ('08 11', 1.0): 3, ('16-31', 1.0): 3, ('11 16', 1.0): 3, ('mengusykili', 1.0): 1, ('rindu', 1.0): 2, ('order', 1.0): 1, ('juniper', 1.0): 1, ('admin', 1.0): 1, ('dear', 1.0): 1, ('fb', 1.0): 1, ('ademaro', 1.0): 1, ('quelle', 1.0): 1, ('fanpage', 1.0): 1, ('like', 1.0): 1, ('cheri', 1.0): 1, ('sm', 1.0): 3, ('shasa', 1.0): 1, ('kelar', 1.0): 1, ('oke', 1.0): 3, ('udahan', 1.0): 1, ('tugas', 1.0): 1, ('selesai', 1.0): 1, ('ketemu', 1.0): 1, ('biarin', 1.0): 1, ('halobca', 1.0): 7, ('nampatboy', 1.0): 1, ('informasi', 1.0): 1, ('cc', 1.0): 2, ('kartukreditbca', 1.0): 1, ('tks', 1.0): 8, ('sitamamam', 1.0): 1, ('angin', 1.0): 1, ('nisa', 1.0): 1, ('america s', 1.0): 1, ('not', 1.0): 1, ('my', 1.0): 1, ('country', 1.0): 1, ('but', 1.0): 1, ('mana', 1.0): 1, ('warga', 1.0): 1, ('asli', 1.0): 1, ('amerika', 1.0): 1, ('tinggal', 1.0): 1, ('usir', 1.0): 2, ('nadaih', 1.0): 1, ('bikin', 1.0): 1, ('penasaran', 1.0): 2, ('karinkenapa', 1.0): 1, ('suka', 1.0): 3, ('paksa', 1.0): 1, ('we', 1.0): 1, ('nisaaku', 1.0): 1, ('semalem', 1.0): 1, ('mimpi', 1.0): 1, ('jaman', 1.0): 4, ('perang', 1.0): 1, ('wedi', 1.0): 1, ('ivanmuzzamil', 1.0): 1, ('mhn', 1.0): 4, ('bpk', 1.0): 4, ('tunggu', 1.0): 4, ('merespon', 1.0): 1, ('kirim', 1.0): 3, ('sitamantan', 1.0): 1, ('pinter', 1.0): 1, ('makeup', 1.0): 1, ('cantik', 1.0): 1, ('nyesel', 1.0): 1, ('putus', 1.0): 1, ('hati', 1.0): 3, ('sakit', 1.0): 1, ('nurindaaah', 1.0): 1, ('produk', 1.0): 4, ('nuragpp', 1.0): 1, ('lae', 1.0): 2, ('marah', 1.0): 1, ('ikhlas', 1.0): 1, ('tp', 1.0): 1, ('mohon', 1.0): 2, ('tulus', 1.0): 1, ('maafin', 1.0): 1, ('nisaga', 1.0): 1, ('rasa', 1.0): 1, ('anaketeknya', 1.0): 1, ('bau', 1.0): 1, ('eonn', 1.0): 1, ('veyonboy', 1.0): 3, ('hasil', 1.0): 4, ('dapat', 1.0): 3, ('amelyaaah', 1.0): 1, ('fokus', 1.0): 1, ('rulesnya', 1.0): 1, ('pahlawan', 1.0): 1, ('aaargh', 1.0): 1, ('v', 1.0): 1, ('rizallfahri', 1.0): 4, ('mygrapari', 1.0): 4, ('anajadi', 1.0): 1, ('lidernya', 1.0): 1, ('sepenaikon', 1.0): 1, ('hilmasunarya', 1.0): 2, ('nisaindosatcare', 1.0): 1, ('mutiari', 1.0): 1, ('maaf', 1.0): 3, ('kak', 1.0): 3, ('sistem', 1.0): 1, ('lacak', 1.0): 1, ('thanks', 1.0): 2, ('muty', 1.0): 1, ('nuraga', 1.0): 1, ('anaanjirr', 1.0): 1, ('knp', 1.0): 1, ('nuradaon', 1.0): 1, ('gaenak', 1.0): 1, ('clararvh', 1.0): 2, ('mbak', 1.0): 2, ('clara', 1.0): 2, ('upgrade', 1.0): 2, ('4g', 1.0): 3, ('grapari', 1.0): 6, ('cyber', 1.0): 2, ('park', 1.0): 2, ('notes', 1.0): 2, ('anamungkin', 1.0): 1, ('anakok', 1.0): 1, ('gue', 1.0): 5, ('sedih', 1.0): 3, ('reply', 1.0): 1, ('event', 1.0): 1, ('gatau', 1.0): 1, ('eventnya', 1.0): 1, ('anaduh', 1.0): 1, ('anak', 1.0): 1, ('pramuka', 1.0): 1, ('indosatcare', 1.0): 1, ('giarto', 1.0): 1, ('69 tyu', 1.0): 1, ('yaa', 1.0): 1, ('lanjut', 1.0): 1, ('aktivitas', 1.0): 1, ('gumyah', 1.0): 1, ('trus', 1.0): 1, ('jajaninnya', 1.0): 1, ('amelapa', 1.0): 1, ('nisalupa', 1.0): 1, ('mulu', 1.0): 1, ('uname', 1.0): 1, ('jing', 1.0): 1, ('pelan', 1.0): 2, ('nnti', 1.0): 1, ('perlahan', 1.0): 1, ('sepi', 1.0): 1, ('ubah', 1.0): 3, ('padat', 1.0): 1, ('rayap', 1.0): 1, ('ramai', 1.0): 1, ('hiatus', 1.0): 1, ('got', 1.0): 2, ('7', 1.0): 2, ('tbtb', 1.0): 1, ('gak', 1.0): 2, ('sengaja', 1.0): 1, ('skrng', 1.0): 1, ('gin', 1.0): 2, ('nisayaallah', 1.0): 1, ('jahat', 1.0): 1, ('bat', 1.0): 1, ('abang', 1.0): 2, ('nurasekolah', 1.0): 1, ('penjara', 1.0): 1, ('kelas', 1.0): 1, ('kamar', 1.0): 1, ('sel', 1.0): 1, ('guru', 1.0): 1, ('polisi', 1.0): 1, ('narapidana', 1.0): 1, ('kabar', 1.0): 1, ('putriiianugrah', 1.0): 1, ('laku', 1.0): 1, ('kpd', 1.0): 1, ('kait', 1.0): 3, ('02', 1.0): 2, ('novijaguar', 1.0): 1, ('nuraduh', 1.0): 1, ('telat', 1.0): 1, ('anamorning', 1.0): 1, ('sayang', 1.0): 2, ('som', 1.0): 1, ('bangun', 1.0): 1, ('kkk', 1.0): 1, ('uuu', 1.0): 1, ('matanyaaa', 1.0): 1, ('lucuu', 1.0): 1, ('sebenernya', 1.0): 1, ('lo', 1.0): 4, ('deket', 1.0): 1, ('gpp', 1.0): 1, ('takutin', 1.0): 1, ('kenal', 1.0): 2, ('nyangka', 1.0): 1, ('dampak', 1.0): 1, ('euy', 1.0): 1, ('terpilihna', 1.0): 1, ('eta', 1.0): 1, ('liat', 1.0): 2, ('miris', 1.0): 1, ('bgt', 1.0): 4, ('ttt', 1.0): 1, ('nadatak', 1.0): 1, ('taknak', 1.0): 1, ('sylviagustini', 1.0): 1, ('no', 1.0): 3, ('telp', 1.0): 1, ('tsb', 1.0): 1, ('tlp', 1.0): 1, ('resmi', 1.0): 1, ('aju', 1.0): 1, ('bca', 1.0): 1, ('kalo', 1.0): 1, ('apa', 1.0): 2, ('diem', 1.0): 1, ('serba', 1.0): 1, ('anaberat', 1.0): 1, ('berat', 1.0): 1, ('cutevnha', 1.0): 1, ('oghpoes', 1.0): 1, ('menganalisa', 1.0): 1, ('pd', 1.0): 2, ('abenk', 1.0): 1, ('alami', 1.0): 2, ('noviajak', 1.0): 1, ('ajak', 1.0): 1, ('teman', 1.0): 1, ('dekat', 1.0): 1, ('maha', 1.0): 1, ('esa', 1.0): 1, ('tunjuk', 1.0): 1, ('jalan', 1.0): 1, ('-', 1.0): 3, ('difollback', 1.0): 1, ('gimana', 1.0): 1, ('mo', 1.0): 1, ('nang', 1.0): 2, ('status', 1.0): 1, ('kartu', 1.0): 1, ('litalalu', 1.0): 1, ('kevin w', 1.0): 1, ('93', 1.0): 1, ('rahasia', 1.0): 2, ('data', 1.0): 4, ('jaga', 1.0): 3, ('tatayang', 1.0): 1, ('coba', 1.0): 1, ('o', 1.0): 1, ('bm', 1.0): 1, ('bbm', 1.0): 1, ('error', 1.0): 1, ('tony', 1.0): 2, ('1794', 1.0): 1, ('indiga', 1.0): 1, ('galau', 1.0): 1, ('gistiutami', 1.0): 1, ('jk', 1.0): 1, ('agisti', 1.0): 1, ('hub', 1.0): 1, ('1500888', 1.0): 1, ('utk', 1.0): 1, ('buat', 1.0): 1, ('lapor', 1.0): 1, ('novihuhu', 1.0): 1, ('vickywulan d', 1.0): 1, ('meisyapaling', 1.0): 1, ('muscle', 1.0): 1, ('mass', 1.0): 1, ('turun', 1.0): 1, ('lumayan', 1.0): 1, ('marlonkalit', 1.0): 2, ('sesuai', 1.0): 1, ('nominal', 1.0): 1, ('isi', 1.0): 1, ('ulang', 1.0): 1, ('pulsa', 1.0): 2, ('terkahir', 1.0): 1, ('kerahasian', 1.0): 1, ('nailakth', 1.0): 1, ('ak', 1.0): 1, ('tauuu', 1.0): 1, ('nmadjid', 1.0): 1, ('hubung', 1.0): 2, ('call', 1.0): 1, ('center', 1.0): 1, ('negeri', 1.0): 1, ('dial', 1.0): 2, ('6281100033', 1.0): 1, ('3', 1.0): 3, ('kartuhalo', 1.0): 1, ('litaputek', 1.0): 1, ('talaga', 1.0): 1, ('bernie', 1.0): 1, ('smh', 1.0): 1, ('johanmks', 1.0): 1, ('1303013', 1.0): 1, ('amelselama', 1.0): 1, ('sodara', 1.0): 1, ('gaegang', 1.0): 1, ('sia', 1.0): 1, ('go dillaa', 1.0): 3, ('tarif', 1.0): 2, ('sms', 1.0): 3, ('copy', 1.0): 1, ('rp1', 1.0): 1, ('000', 1.0): 2, ('sms-nya', 1.0): 1, ('rp150', 1.0): 1, ('ochiudah', 1.0): 1, ('hapus', 1.0): 2, ('kkt', 1.0): 1, ('bonus', 1.0): 2, ('889', 1.0): 2, ('sariyaudah', 1.0): 1, ('pergi', 1.0): 1, ('anaangpas', 1.0): 1, ('ketawa', 1.0): 1, ('nisadm', 1.0): 1, ('diread', 1.0): 1, ('doang', 1.0): 2, ('yon', 1.0): 1, ('makasih', 1.0): 1, ('amelengga', 1.0): 1, ('ts', 1.0): 1, ('chara', 1.0): 1, ('s', 1.0): 1, ('abin', 1.0): 1, ('muka', 1.0): 1, ('ana', 1.0): 1, ('takde', 1.0): 1, ('rt', 1.0): 1, ('real', 1.0): 1, ('time', 1.0): 1, ('web', 1.0): 1, ('chat', 1.0): 1, ('inka-mau', 1.0): 1, ('kuota', 1.0): 2, ('ketik', 1.0): 1, ('flash', 1.0): 2, ('spasi', 1.0): 1, ('3636', 1.0): 1, ('felagigi', 1.0): 1, ('mata', 1.0): 1, ('beda', 1.0): 2, ('nari gunita', 1.0): 2, ('vinanggak', 1.0): 1, ('zemuanya', 1.0): 1, ('marlon', 1.0): 1, ('kode', 1.0): 1, ('puk', 1.0): 1, ('claudykirain', 1.0): 1, ('ngegibah', 1.0): 1, ('ampe', 1.0): 1, ('g', 1.0): 1, ('eyangtije', 1.0): 1, ('08128425', 1.0): 1, ('0xxx', 1.0): 1, ('tatahantu', 1.0): 1, ('nuragaada', 1.0): 1, ('respect', 1.0): 1, ('ngikutin', 1.0): 1, ('billyputras', 1.0): 1, ('billy', 1.0): 1, ('bank', 1.0): 1, ('nonaktif', 1.0): 1, ('claudyyg', 1.0): 1, ('xlcare', 1.0): 1, ('tereredung', 1.0): 1, ('tere', 1.0): 1, ('restart', 1.0): 1, ('airplane', 1.0): 1, ('lepas', 1.0): 1, ('pasang', 1.0): 1, ('sim', 1.0): 1, ('card', 1.0): 1, ('aybom', 1.0): 1, ('akutuh', 1.0): 1, ('sibuk', 1.0): 1, ('bom', 1.0): 1, ('sbl', 1.0): 1, ('ab', 1.0): 1, ('ki', 1.0): 1, ('baar', 1.0): 1, ('sarkar', 1.0): 1, ('sis', 1.0): 1, ('album', 1.0): 1, ('wings', 1.0): 1, ('tahap', 1.0): 1, ('urut', 1.0): 2, ('nggak', 1.0): 1, ('nunggu', 1.0): 2, ('yu', 1.0): 1, ('maap', 1.0): 2, ('kmrn', 1.0): 1, ('bsa', 1.0): 1, ('dateng', 1.0): 1, ('yaaahh', 1.0): 1, ('nasi', 1.0): 1, ('tumpeng', 1.0): 1, ('msh', 1.0): 1, ('sarap', 1.0): 1, ('yes', 1.0): 1, ('martabak', 1.0): 1, ('keju', 1.0): 1, ('enak', 1.0): 1, ('awas', 1.0): 1, ('friendly', 1.0): 1, ('thank', 1.0): 1, ('u', 1.0): 2, ('baju', 1.0): 1, ('bu', 1.0): 1, ('sabar', 1.0): 1, ('banget', 1.0): 1, ('hyung', 1.0): 1, ('ivanda asyehu', 1.0): 1, ('thx', 1.0): 1, ('nisanurhadi', 1.0): 1, ('wciptadi', 1.0): 1, ('nisaharga', 1.0): 1, ('app', 1.0): 1, ('musik', 1.0): 1, ('film', 1.0): 1, ('itunes', 1.0): 1, ('store', 1.0): 1, ('amrik', 1.0): 2, ('indonesia', 1.0): 1, ('akun', 1.0): 1, ('harga', 1.0): 1, ('2x', 1.0): 1, ('lipat', 1.0): 1, ('ariz hsbc', 1.0): 1, ('content', 1.0): 1, ('panjang', 1.0): 1, ('nurikpn', 1.0): 1, ('kmbali', 1.0): 1, ('kpn', 1.0): 1, ('dtg', 1.0): 1, ('nya', 1.0): 1, ('kn', 1.0): 1, ('indh', 1.0): 1, ('wktunya', 1.0): 1, ('ken', 1.0): 1, ('ky', 1.0): 1, ('dlu', 1.0): 1, ('herlinadnurani', 1.0): 1, ('t-wallet', 1.0): 1, ('aplikasi', 1.0): 2, ('dompet', 1.0): 1, ('elektronik', 1.0): 1, ('transaksi', 1.0): 1, ('jaring', 1.0): 1, ('nirkabel', 1.0): 1, ('krisapacaran', 1.0): 1, ('nungguin', 1.0): 3, ('pacar', 1.0): 1, ('jemput', 1.0): 1, ('ldr', 1.0): 1, ('telpon', 1.0): 1, ('jomblo', 1.0): 1, ('dwinaayu', 1.0): 1, ('tatayaudah', 1.0): 1, ('gausah', 1.0): 1, ('percaya', 1.0): 1, ('adyth pramana', 1.0): 1, ('8', 1.0): 1, ('11 2016', 1.0): 1, ('aktivasi', 1.0): 1, ('internet', 1.0): 1, ('rp50', 1.0): 1, ('buddy', 1.0): 1, ('more', 1.0): 1, ('nak', 1.0): 1, ('jumpa', 1.0): 1, ('awak', 1.0): 1, ('riskibimar', 1.0): 1, ('sore', 1.0): 2, ('riski', 1.0): 1, ('drop', 1.0): 1, ('nuri', 1.0): 1, ('kenapasih', 1.0): 1, ('aiko', 1.0): 1, ('yanglek', 1.0): 1, ('fikrinugraha', 1.0): 1, ('9', 1.0): 1, ('fikri', 1.0): 1, ('bogor', 1.0): 2, ('jl', 1.0): 1, ('raya', 1.0): 1, ('pajajaran', 1.0): 1, ('16143', 1.0): 1, ('nuratapi', 1.0): 1, ('orang', 1.0): 1, ('rickywijayadew', 1.0): 1, ('nama', 1.0): 1, ('kandung', 1.0): 1, ('fujimaah', 1.0): 1, ('perkosa', 1.0): 1, ('anu', 1.0): 1, ('kotor', 1.0): 2, ('maaah', 1.0): 1, ('tenang', 1.0): 1, ('berani', 1.0): 1, ('rinso', 1.0): 1, ('dwichyoo', 1.0): 1, ('nuraitumah', 1.0): 1, ('cerita', 1.0): 1, ('ayang', 1.0): 1, ('eleveniacare', 1.0): 1, ('amelaku', 1.0): 1, ('simple', 1.0): 1, ('mainin', 1.0): 2, ('asa', 1.0): 1, ('cewek', 1.0): 3, ('karna', 1.0): 2, ('boneka', 1.0): 1, ('bilang', 1.0): 1, ('banci', 1.0): 1, ('mhmdaliwafa', 1.0): 1, ('log', 1.0): 1, ('in', 1.0): 1, ('instagram', 1.0): 1, ('sari', 1.0): 1, ('nda', 1.0): 1, ('lanwsp', 1.0): 1, ('friday', 1.0): 1, ('movie', 1.0): 1, ('mania', 1.0): 1, ('sarijan', 1.0): 1, ('homo', 1.0): 1, ('mentab', 1.0): 1, ('cheonsa', 1.0): 1, ('jebal', 1.0): 1, ('rizkyrinjani', 1.0): 1, ('rizky', 1.0): 1, ('telepon', 1.0): 1, ('yogahuhu', 1.0): 1, ('cobaa', 1.0): 1, ('kesel', 1.0): 1, ('chapter', 1.0): 1, ('updatenya', 1.0): 1, ('dikit', 1.0): 1, ('pokok', 1.0): 1, ('ngedesah', 1.0): 1, ('titik', 1.0): 1, ('kgk', 1.0): 1, ('pake', 1.0): 1, ('koma', 1.0): 1, ('desah', 1.0): 1, ('ae', 1.0): 1, ('ggitu', 1.0): 1, ('ava', 1.0): 1, ('kurus', 1.0): 1, ('undebut', 1.0): 1}\n"
     ]
    }
   ],
   "source": [
    "print(freqs)"
   ]
  },
  {
   "cell_type": "markdown",
   "metadata": {},
   "source": [
    "## Visualize Frequencies"
   ]
  },
  {
   "cell_type": "code",
   "execution_count": 13,
   "metadata": {},
   "outputs": [
    {
     "data": {
      "text/plain": [
       "[['selamat', 3, 0],\n",
       " ['salah', 5, 0],\n",
       " ['sedih', 3, 0],\n",
       " ['kendala', 10, 0],\n",
       " ['marah', 1, 0],\n",
       " ['tenang', 1, 0],\n",
       " ['cantik', 1, 0],\n",
       " ['dekat', 1, 0],\n",
       " ['telkomsel', 64, 0],\n",
       " ['dm', 22, 0],\n",
       " ['info', 24, 0]]"
      ]
     },
     "execution_count": 13,
     "metadata": {},
     "output_type": "execute_result"
    }
   ],
   "source": [
    "# select some words to appear in the report. we will assume that each word is unique (i.e. no duplicates)\n",
    "keys = ['selamat', 'salah', 'sedih', 'kendala', 'marah', 'tenang', 'cantik',\n",
    "        'dekat', 'telkomsel', 'dm', 'info']\n",
    "\n",
    "# list representing our table of word counts.\n",
    "# each element consist of a sublist with this pattern: [<word>, <positive_count>, <negative_count>]\n",
    "data = []\n",
    "\n",
    "# loop through our selected words\n",
    "for word in keys:\n",
    "    \n",
    "    # initialize positive and negative counts\n",
    "    pos = 0\n",
    "    neg = 0\n",
    "    \n",
    "    # retrieve number of positive counts\n",
    "    if (word, 1) in freqs:\n",
    "        pos = freqs[(word, 1)]\n",
    "        \n",
    "    # retrieve number of negative counts\n",
    "    if (word, 0) in freqs:\n",
    "        neg = freqs[(word, 0)]\n",
    "        \n",
    "    # append the word counts to the table\n",
    "    data.append([word, pos, neg])\n",
    "    \n",
    "data"
   ]
  },
  {
   "cell_type": "code",
   "execution_count": 14,
   "metadata": {},
   "outputs": [
    {
     "data": {
      "image/png": "[encoded data removed]",
      "text/plain": [
       "<Figure size 576x576 with 1 Axes>"
      ]
     },
     "metadata": {
      "needs_background": "light"
     },
     "output_type": "display_data"
    }
   ],
   "source": [
    "fig, ax = plt.subplots(figsize = (8, 8))\n",
    "\n",
    "# convert positive raw counts to logarithmic scale. we add 1 to avoid log(0)\n",
    "x = np.log([x[1] + 1 for x in data])  \n",
    "\n",
    "# do the same for the negative counts\n",
    "y = np.log([x[2] + 1 for x in data]) \n",
    "\n",
    "# Plot a dot for each pair of words\n",
    "ax.scatter(x, y)  \n",
    "\n",
    "# assign axis labels\n",
    "plt.xlabel(\"Log Positive count\")\n",
    "plt.ylabel(\"Log Negative count\")\n",
    "\n",
    "# Add the word as the label at the same position as you added the points just before\n",
    "for i in range(0, len(data)):\n",
    "    ax.annotate(data[i][0], (x[i], y[i]), fontsize=12)\n",
    "\n",
    "ax.plot([0, 9], [0, 9], color = 'red') # Plot the red line that divides the 2 areas.\n",
    "plt.show()"
   ]
  },
  {
   "cell_type": "code",
   "execution_count": null,
   "metadata": {},
   "outputs": [],
   "source": []
  }
 ],
 "metadata": {
  "kernelspec": {
   "display_name": "Python 3",
   "language": "python",
   "name": "python3"
  },
  "language_info": {
   "codemirror_mode": {
    "name": "ipython",
    "version": 3
   },
   "file_extension": ".py",
   "mimetype": "text/x-python",
   "name": "python",
   "nbconvert_exporter": "python",
   "pygments_lexer": "ipython3",
   "version": "3.8.5"
  }
 },
 "nbformat": 4,
 "nbformat_minor": 4
}
